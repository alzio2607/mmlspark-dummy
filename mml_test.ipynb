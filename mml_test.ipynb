{
 "cells": [
  {
   "cell_type": "code",
   "execution_count": null,
   "metadata": {},
   "outputs": [],
   "source": [
    "#mml_spark\n",
    "from mmlspark.lightgbm import LightGBMClassifier, LightGBMClassificationModel\n",
    "from pyspark.ml.feature import StringIndexer, VectorAssembler\n",
    "\n",
    "model_path = \"./model.lgb\"\n",
    "ft = [\"ad_tag_id\",\"device_id\",\"domain_name\",\"url_pattern2\",\"slot_id\",\"slideshow\",\"seller_seller_tag\",\"is_commercial_url_nb\",\"is_commercial_url_lda\",\"seller_adblock_id_misc\",\"seller\",\"cat0\",\"cat1\",\"cat2\"]\n",
    "\n",
    "model = LightGBMClassificationModel.loadNativeModelFromFile(model_path)\n",
    "sdf = spark.read.parquet(\"./000.parquet\")\n",
    "\n",
    "features=[]\n",
    "for f in ft:\n",
    "    string_indexer = StringIndexer(inputCol=f, outputCol=f + \"_index\")\n",
    "    model_si = string_indexer.fit(sdf)\n",
    "    sdf = model_si.transform(sdf)\n",
    "    features.append(f + \"_index\")\n",
    "\n",
    "vector_assembler = VectorAssembler(inputCols=eatures, outputCol=\"features\")\n",
    "data = vector_assembler.transform(sdf)\n",
    "preds = model.transform(sdf)\n",
    "\n",
    "pred_probs = preds.select(\"probability\").rdd.flatMap(lambda x: x).collect()\n",
    "print(pred_probs)\n",
    "\n",
    "\n",
    "\n",
    "#pandas (classic lightgbm)\n",
    "import pandas as pd\n",
    "import lightgbm as lgb\n",
    "\n",
    "model = lgb.Booster(model_file = \"./model.lgb\")\n",
    "df = pd.read_parquet(\"./000.parquet\")\n",
    "\n",
    "def set_column_dtype(df, col):\n",
    "    temp = df[col].astype(\"str\").astype(\"category\").values\n",
    "    del df[col]\n",
    "    df[col] = temp\n",
    "    \n",
    "def set_dtypes(df, feature_list):\n",
    "    for name in feature_list:\n",
    "        set_column_dtype(df, name)\n",
    "    return df\n",
    "\n",
    "        \n",
    "df = set_dtypes(df, ft)\n",
    "df = df[ft]\n",
    "\n",
    "preds = model.predict(df)\n",
    "print(preds)"
   ]
  }
 ],
 "metadata": {
  "kernelspec": {
   "display_name": "Python 3",
   "language": "python",
   "name": "python3"
  },
  "language_info": {
   "codemirror_mode": {
    "name": "ipython",
    "version": 3
   },
   "file_extension": ".py",
   "mimetype": "text/x-python",
   "name": "python",
   "nbconvert_exporter": "python",
   "pygments_lexer": "ipython3",
   "version": "3.6.9"
  }
 },
 "nbformat": 4,
 "nbformat_minor": 2
}
